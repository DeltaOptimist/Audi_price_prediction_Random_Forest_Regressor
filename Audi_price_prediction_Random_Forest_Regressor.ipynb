{
  "nbformat": 4,
  "nbformat_minor": 0,
  "metadata": {
    "colab": {
      "name": "Audi_price_prediction_Random_Forest_Regressor.ipynb",
      "provenance": [],
      "collapsed_sections": []
    },
    "kernelspec": {
      "name": "python3",
      "display_name": "Python 3"
    }
  },
  "cells": [
    {
      "cell_type": "markdown",
      "metadata": {
        "id": "DvFI1bGMMG0d"
      },
      "source": [
        "# Importing Libraries"
      ]
    },
    {
      "cell_type": "code",
      "metadata": {
        "id": "adJRe0BML4Tz"
      },
      "source": [
        "import numpy as np\n",
        "import pandas as pd\n",
        "import matplotlib.pyplot as plt"
      ],
      "execution_count": 1,
      "outputs": []
    },
    {
      "cell_type": "code",
      "metadata": {
        "id": "3GDElbXqMYl1"
      },
      "source": [
        "df = pd.read_csv('audi.csv')\n",
        "\n",
        "\n",
        "X = df.iloc[:,[0,1,3,4,5,6,7,8]].values\n",
        "Y = df.iloc[:,[2]].values"
      ],
      "execution_count": 2,
      "outputs": []
    },
    {
      "cell_type": "code",
      "metadata": {
        "id": "X4v0eKucOIa6",
        "colab": {
          "base_uri": "https://localhost:8080/"
        },
        "outputId": "d31eb019-46e5-47cb-c1ed-c4404f2f01c2"
      },
      "source": [
        "print(X)"
      ],
      "execution_count": 3,
      "outputs": [
        {
          "output_type": "stream",
          "name": "stdout",
          "text": [
            "[[' A1' 2017 'Manual' ... 150 55.4 1.4]\n",
            " [' A6' 2016 'Automatic' ... 20 64.2 2.0]\n",
            " [' A1' 2016 'Manual' ... 30 55.4 1.4]\n",
            " ...\n",
            " [' A3' 2020 'Manual' ... 150 49.6 1.0]\n",
            " [' Q3' 2017 'Automatic' ... 150 47.9 1.4]\n",
            " [' Q3' 2016 'Manual' ... 150 47.9 1.4]]\n"
          ]
        }
      ]
    },
    {
      "cell_type": "code",
      "metadata": {
        "colab": {
          "base_uri": "https://localhost:8080/"
        },
        "id": "hKSk5HSrOKNo",
        "outputId": "214fcf11-b30e-40d0-a615-c193c3714086"
      },
      "source": [
        "print(Y)"
      ],
      "execution_count": 4,
      "outputs": [
        {
          "output_type": "stream",
          "name": "stdout",
          "text": [
            "[[12500]\n",
            " [16500]\n",
            " [11000]\n",
            " ...\n",
            " [17199]\n",
            " [19499]\n",
            " [15999]]\n"
          ]
        }
      ]
    },
    {
      "cell_type": "markdown",
      "metadata": {
        "id": "aMlesq7oOjVC"
      },
      "source": [
        "#Data Preprocessing"
      ]
    },
    {
      "cell_type": "markdown",
      "metadata": {
        "id": "wFmWPBXjlnFE"
      },
      "source": [
        "#Label Encoding"
      ]
    },
    {
      "cell_type": "code",
      "metadata": {
        "id": "KmtRS3zikkfO"
      },
      "source": [
        "from sklearn.preprocessing import LabelEncoder\n",
        "le1 = LabelEncoder()\n",
        "X[:,0] = le1.fit_transform(X[:,0])\n",
        "le2 = LabelEncoder()\n",
        "X[:,-4] = le2.fit_transform(X[:,-4])"
      ],
      "execution_count": 5,
      "outputs": []
    },
    {
      "cell_type": "code",
      "metadata": {
        "id": "FVaSf_3AmfHU"
      },
      "source": [
        "from sklearn.preprocessing import OneHotEncoder\n",
        "from sklearn.compose import ColumnTransformer\n",
        "ct = ColumnTransformer(transformers = [('encoder',OneHotEncoder(),[2])],remainder='passthrough')\n",
        "X = ct.fit_transform(X)"
      ],
      "execution_count": 6,
      "outputs": []
    },
    {
      "cell_type": "code",
      "metadata": {
        "colab": {
          "base_uri": "https://localhost:8080/"
        },
        "id": "fBZcM0ucpQsw",
        "outputId": "2a2a5187-0865-4377-c23f-f19e3a40912a"
      },
      "source": [
        "print(X)"
      ],
      "execution_count": 7,
      "outputs": [
        {
          "output_type": "stream",
          "name": "stdout",
          "text": [
            "[[0.0 1.0 0.0 ... 150 55.4 1.4]\n",
            " [1.0 0.0 0.0 ... 20 64.2 2.0]\n",
            " [0.0 1.0 0.0 ... 30 55.4 1.4]\n",
            " ...\n",
            " [0.0 1.0 0.0 ... 150 49.6 1.0]\n",
            " [1.0 0.0 0.0 ... 150 47.9 1.4]\n",
            " [0.0 1.0 0.0 ... 150 47.9 1.4]]\n"
          ]
        }
      ]
    },
    {
      "cell_type": "markdown",
      "metadata": {
        "id": "TEsuDRJFqj4r"
      },
      "source": [
        "#Feature Scaling"
      ]
    },
    {
      "cell_type": "code",
      "metadata": {
        "id": "evVj7nISqLq6"
      },
      "source": [
        "from sklearn.preprocessing import StandardScaler\n",
        "sc = StandardScaler()\n",
        "X = sc.fit_transform(X)"
      ],
      "execution_count": 8,
      "outputs": []
    },
    {
      "cell_type": "code",
      "metadata": {
        "colab": {
          "base_uri": "https://localhost:8080/"
        },
        "id": "0OjhUAYOqyO_",
        "outputId": "50b56231-4f53-4c6f-8503-8c5113c8a67b"
      },
      "source": [
        "print(X)"
      ],
      "execution_count": 9,
      "outputs": [
        {
          "output_type": "stream",
          "name": "stdout",
          "text": [
            "[[-0.58326752  1.2007284  -0.71233307 ...  0.35714729  0.35755001\n",
            "  -0.88021837]\n",
            " [ 1.71447913 -0.83282781 -0.71233307 ... -1.57832278  1.03713001\n",
            "   0.11492465]\n",
            " [-0.58326752  1.2007284  -0.71233307 ... -1.42944047  0.35755001\n",
            "  -0.88021837]\n",
            " ...\n",
            " [-0.58326752  1.2007284  -0.71233307 ...  0.35714729 -0.09035499\n",
            "  -1.54364705]\n",
            " [ 1.71447913 -0.83282781 -0.71233307 ...  0.35714729 -0.22163749\n",
            "  -0.88021837]\n",
            " [-0.58326752  1.2007284  -0.71233307 ...  0.35714729 -0.22163749\n",
            "  -0.88021837]]\n"
          ]
        }
      ]
    },
    {
      "cell_type": "markdown",
      "metadata": {
        "id": "sxRonxpsq4CT"
      },
      "source": [
        "#Splitting Dataset into Training set and Test set"
      ]
    },
    {
      "cell_type": "code",
      "metadata": {
        "id": "U67zgMSWqzPQ"
      },
      "source": [
        "from sklearn.model_selection import train_test_split\n",
        "(X_train,X_test,Y_train,Y_test) = train_test_split(X,Y,test_size=0.2,random_state=0)"
      ],
      "execution_count": 10,
      "outputs": []
    },
    {
      "cell_type": "markdown",
      "metadata": {
        "id": "wy6uWiF6rmGJ"
      },
      "source": [
        "#Training Model"
      ]
    },
    {
      "cell_type": "code",
      "metadata": {
        "colab": {
          "base_uri": "https://localhost:8080/"
        },
        "id": "AOyHpXmCrfJi",
        "outputId": "87775fbf-4d57-4e11-9afc-76c13480395a"
      },
      "source": [
        "from sklearn.ensemble import RandomForestRegressor\n",
        "regression = RandomForestRegressor(random_state=0)\n",
        "regression.fit(X_train,Y_train)"
      ],
      "execution_count": 11,
      "outputs": [
        {
          "output_type": "stream",
          "name": "stderr",
          "text": [
            "/usr/local/lib/python3.7/dist-packages/ipykernel_launcher.py:3: DataConversionWarning: A column-vector y was passed when a 1d array was expected. Please change the shape of y to (n_samples,), for example using ravel().\n",
            "  This is separate from the ipykernel package so we can avoid doing imports until\n"
          ]
        },
        {
          "output_type": "execute_result",
          "data": {
            "text/plain": [
              "RandomForestRegressor(bootstrap=True, ccp_alpha=0.0, criterion='mse',\n",
              "                      max_depth=None, max_features='auto', max_leaf_nodes=None,\n",
              "                      max_samples=None, min_impurity_decrease=0.0,\n",
              "                      min_impurity_split=None, min_samples_leaf=1,\n",
              "                      min_samples_split=2, min_weight_fraction_leaf=0.0,\n",
              "                      n_estimators=100, n_jobs=None, oob_score=False,\n",
              "                      random_state=0, verbose=0, warm_start=False)"
            ]
          },
          "metadata": {},
          "execution_count": 11
        }
      ]
    },
    {
      "cell_type": "code",
      "metadata": {
        "id": "RNuRRFQOr1Ug"
      },
      "source": [
        "y_pred = regression.predict(X_test)"
      ],
      "execution_count": 12,
      "outputs": []
    },
    {
      "cell_type": "markdown",
      "metadata": {
        "id": "_6t0JU9-sBbw"
      },
      "source": [
        "#Testing result"
      ]
    },
    {
      "cell_type": "code",
      "metadata": {
        "colab": {
          "base_uri": "https://localhost:8080/"
        },
        "id": "-_iy5h_yr8ue",
        "outputId": "2e4a3e12-eebd-485f-bb32-5718c88b4c5f"
      },
      "source": [
        "print(np.concatenate((y_pred.reshape(len(y_pred),1),Y_test.reshape(len(Y_test),1)),1))"
      ],
      "execution_count": 13,
      "outputs": [
        {
          "output_type": "stream",
          "name": "stdout",
          "text": [
            "[[14337.15 14998.  ]\n",
            " [23450.35 21950.  ]\n",
            " [27330.07 28990.  ]\n",
            " ...\n",
            " [46275.18 45995.  ]\n",
            " [31359.   30500.  ]\n",
            " [ 9929.62  8400.  ]]\n"
          ]
        }
      ]
    },
    {
      "cell_type": "markdown",
      "metadata": {
        "id": "-0-RmtkOtMq7"
      },
      "source": [
        "#Calculating Accuracy"
      ]
    },
    {
      "cell_type": "code",
      "metadata": {
        "colab": {
          "base_uri": "https://localhost:8080/"
        },
        "id": "v8REZthTtHHt",
        "outputId": "3847c537-4306-4249-dc54-bb07bd64cc93"
      },
      "source": [
        "from sklearn.metrics import r2_score,mean_absolute_error\n",
        "r2_score(Y_test, y_pred)"
      ],
      "execution_count": 14,
      "outputs": [
        {
          "output_type": "execute_result",
          "data": {
            "text/plain": [
              "0.9536134841307546"
            ]
          },
          "metadata": {},
          "execution_count": 14
        }
      ]
    },
    {
      "cell_type": "code",
      "metadata": {
        "colab": {
          "base_uri": "https://localhost:8080/"
        },
        "id": "GxP1Cd2wdTxf",
        "outputId": "a275dc93-924d-4fc8-f7ca-6ec1fe4a9829"
      },
      "source": [
        "mean_absolute_error(Y_test,y_pred)"
      ],
      "execution_count": 15,
      "outputs": [
        {
          "output_type": "execute_result",
          "data": {
            "text/plain": [
              "1538.730980670462"
            ]
          },
          "metadata": {},
          "execution_count": 15
        }
      ]
    },
    {
      "cell_type": "markdown",
      "metadata": {
        "id": "-UbtCar8xztY"
      },
      "source": [
        ""
      ]
    },
    {
      "cell_type": "code",
      "metadata": {
        "colab": {
          "base_uri": "https://localhost:8080/"
        },
        "id": "zOE8eeBBzz2r",
        "outputId": "22b8ea1c-588b-488e-f3d2-b5e78278051e"
      },
      "source": [
        "print(y_pred)"
      ],
      "execution_count": 16,
      "outputs": [
        {
          "output_type": "stream",
          "name": "stdout",
          "text": [
            "[14337.15 23450.35 27330.07 ... 46275.18 31359.    9929.62]\n"
          ]
        }
      ]
    },
    {
      "cell_type": "markdown",
      "metadata": {
        "id": "QjaAX02k1k6k"
      },
      "source": [
        "#Reshape to 2D"
      ]
    },
    {
      "cell_type": "code",
      "metadata": {
        "colab": {
          "base_uri": "https://localhost:8080/"
        },
        "id": "98SC5IHnyBZo",
        "outputId": "ed8255d9-67ab-4463-823a-2def85ff95d3"
      },
      "source": [
        "print(Y_test)"
      ],
      "execution_count": 17,
      "outputs": [
        {
          "output_type": "stream",
          "name": "stdout",
          "text": [
            "[[14998]\n",
            " [21950]\n",
            " [28990]\n",
            " ...\n",
            " [45995]\n",
            " [30500]\n",
            " [ 8400]]\n"
          ]
        }
      ]
    },
    {
      "cell_type": "code",
      "metadata": {
        "id": "38bfA6Qazx_l"
      },
      "source": [
        "y_pred = np.reshape(y_pred,(-1,1))"
      ],
      "execution_count": 18,
      "outputs": []
    },
    {
      "cell_type": "markdown",
      "metadata": {
        "id": "XjnZ6r9t1_Bg"
      },
      "source": [
        "#Making Pandas DataFrame"
      ]
    },
    {
      "cell_type": "code",
      "metadata": {
        "id": "qVSuEqIK1eP9"
      },
      "source": [
        "mydata = np.concatenate((Y_test,y_pred),axis=1)\n",
        "dataframe = pd.DataFrame(mydata,columns=['Real Price','Predicted Price'])"
      ],
      "execution_count": 19,
      "outputs": []
    },
    {
      "cell_type": "code",
      "metadata": {
        "colab": {
          "base_uri": "https://localhost:8080/"
        },
        "id": "NBnipNTu2LDB",
        "outputId": "d3b12a99-9f69-4259-f968-80d5973bf43e"
      },
      "source": [
        "print(dataframe)"
      ],
      "execution_count": 20,
      "outputs": [
        {
          "output_type": "stream",
          "name": "stdout",
          "text": [
            "      Real Price  Predicted Price\n",
            "0        14998.0         14337.15\n",
            "1        21950.0         23450.35\n",
            "2        28990.0         27330.07\n",
            "3        25489.0         27200.98\n",
            "4        30950.0         32250.05\n",
            "...          ...              ...\n",
            "2129     23700.0         39147.77\n",
            "2130     18000.0         16679.95\n",
            "2131     45995.0         46275.18\n",
            "2132     30500.0         31359.00\n",
            "2133      8400.0          9929.62\n",
            "\n",
            "[2134 rows x 2 columns]\n"
          ]
        }
      ]
    }
  ]
}